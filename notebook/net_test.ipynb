{
 "cells": [
  {
   "cell_type": "code",
   "execution_count": 1,
   "metadata": {
    "collapsed": false,
    "scrolled": false
   },
   "outputs": [],
   "source": [
    "import tensorflow as tf\n",
    "import numpy as np\n",
    "from tfs.models import LeNet"
   ]
  },
  {
   "cell_type": "code",
   "execution_count": 2,
   "metadata": {
    "collapsed": false
   },
   "outputs": [],
   "source": [
    "sess = tf.InteractiveSession()\n",
    "data = np.arange(4*10*10*3).reshape(4,10,10,3)\n",
    "net = LeNet([None,10,10,3])"
   ]
  },
  {
   "cell_type": "code",
   "execution_count": 3,
   "metadata": {
    "collapsed": false,
    "scrolled": false
   },
   "outputs": [
    {
     "name": "stdout",
     "output_type": "stream",
     "text": [
      "(4, 10)\n",
      "[[ -2.20210133e+01  -6.74819794e+01   1.15937363e+02   7.58783197e+00\n",
      "    1.87554646e+01  -1.05285866e+02   3.51171913e+01   1.26850685e+02\n",
      "   -4.67531776e+01   2.55281620e+01]\n",
      " [  2.83794136e+01  -2.42056305e+02   2.53659073e+02  -7.60349131e+00\n",
      "    1.03577705e+02  -2.81211029e+02   1.12167492e+01   3.59981384e+02\n",
      "   -1.53337479e+02   7.22532959e+01]\n",
      " [  6.80322418e+01  -4.14989227e+02   3.99104523e+02  -2.57719917e+01\n",
      "    1.78709198e+02  -4.71073364e+02   3.14082593e-01   5.86483459e+02\n",
      "   -2.67388153e+02   1.06550690e+02]\n",
      " [  1.05649498e+02  -5.90683350e+02   5.45452332e+02  -4.22934456e+01\n",
      "    2.55623672e+02  -6.59759521e+02  -8.52029419e+00   8.12562012e+02\n",
      "   -3.77329102e+02   1.36133194e+02]]\n"
     ]
    }
   ],
   "source": [
    "sess.run(tf.global_variables_initializer())\n",
    "print net._out.eval(feed_dict={net._in:data}).shape\n",
    "print net._out.eval(feed_dict={net._in:data})"
   ]
  },
  {
   "cell_type": "code",
   "execution_count": 4,
   "metadata": {
    "collapsed": false
   },
   "outputs": [],
   "source": [
    "layer1=net.layers[1]"
   ]
  },
  {
   "cell_type": "code",
   "execution_count": 5,
   "metadata": {
    "collapsed": false
   },
   "outputs": [
    {
     "name": "stdout",
     "output_type": "stream",
     "text": [
      "knum :  10\n",
      "biased :  True\n",
      "group :  1\n",
      "name :  Conv2d_2\n",
      "activation :  tensorflow.python.ops.gen_nn_ops.relu\n",
      "padding :  SAME\n",
      "strides :  [1, 1]\n",
      "ksize :  [5, 5]\n"
     ]
    }
   ],
   "source": [
    "print layer1.param"
   ]
  },
  {
   "cell_type": "code",
   "execution_count": null,
   "metadata": {
    "collapsed": true
   },
   "outputs": [],
   "source": []
  }
 ],
 "metadata": {
  "kernelspec": {
   "display_name": "Python 2",
   "language": "python",
   "name": "python2"
  },
  "language_info": {
   "codemirror_mode": {
    "name": "ipython",
    "version": 2
   },
   "file_extension": ".py",
   "mimetype": "text/x-python",
   "name": "python",
   "nbconvert_exporter": "python",
   "pygments_lexer": "ipython2",
   "version": "2.7.12"
  }
 },
 "nbformat": 4,
 "nbformat_minor": 0
}
